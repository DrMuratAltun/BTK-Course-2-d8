{
 "cells": [
  {
   "cell_type": "markdown",
   "id": "29fb7e46",
   "metadata": {},
   "source": [
    "CNN ile Görüntü Sınıflandırma"
   ]
  },
  {
   "cell_type": "code",
   "execution_count": null,
   "id": "7080ed6d",
   "metadata": {},
   "outputs": [],
   "source": [
    "pip install tensorflow"
   ]
  },
  {
   "cell_type": "code",
   "execution_count": 1,
   "id": "89c0adf9",
   "metadata": {},
   "outputs": [
    {
     "name": "stdout",
     "output_type": "stream",
     "text": [
      "WARNING:tensorflow:From C:\\Users\\emura\\AppData\\Roaming\\Python\\Python311\\site-packages\\keras\\src\\losses.py:2976: The name tf.losses.sparse_softmax_cross_entropy is deprecated. Please use tf.compat.v1.losses.sparse_softmax_cross_entropy instead.\n",
      "\n"
     ]
    }
   ],
   "source": [
    "from tensorflow.keras.applications.resnet50 import ResNet50,preprocess_input,decode_predictions"
   ]
  },
  {
   "cell_type": "code",
   "execution_count": 2,
   "id": "1526abe7",
   "metadata": {},
   "outputs": [],
   "source": [
    "from tensorflow.keras.preprocessing import image"
   ]
  },
  {
   "cell_type": "code",
   "execution_count": 3,
   "id": "72967644",
   "metadata": {},
   "outputs": [],
   "source": [
    "import numpy as np"
   ]
  },
  {
   "cell_type": "code",
   "execution_count": 22,
   "id": "f5285bd3",
   "metadata": {},
   "outputs": [],
   "source": [
    "#img_list=['kaan.jpeg','f15.jpeg', 'togg.jpeg']\n",
    "img_list=[ 'tesla.jpeg']"
   ]
  },
  {
   "cell_type": "code",
   "execution_count": 23,
   "id": "2f8a0a43",
   "metadata": {},
   "outputs": [
    {
     "data": {
      "image/jpeg": "[encoded data removed]",
      "text/plain": [
       "<IPython.core.display.Image object>"
      ]
     },
     "execution_count": 23,
     "metadata": {},
     "output_type": "execute_result"
    }
   ],
   "source": [
    "from IPython.display import Image\n",
    "Image('kaan.jpeg')"
   ]
  },
  {
   "cell_type": "code",
   "execution_count": 24,
   "id": "1773be9e",
   "metadata": {},
   "outputs": [],
   "source": [
    "model=ResNet50(weights='imagenet')"
   ]
  },
  {
   "cell_type": "code",
   "execution_count": 25,
   "id": "f7d0b269",
   "metadata": {},
   "outputs": [],
   "source": [
    "def img_preprocess(img_path):\n",
    "    img=image.load_img(img_path,target_size=(224,224))\n",
    "    img=image.img_to_array(img)\n",
    "    img=np.expand_dims(img,axis=0)\n",
    "    img=preprocess_input(img)\n",
    "    return img"
   ]
  },
  {
   "cell_type": "code",
   "execution_count": 26,
   "id": "5ff95516",
   "metadata": {},
   "outputs": [
    {
     "name": "stdout",
     "output_type": "stream",
     "text": [
      "1/1 [==============================] - 2s 2s/step\n",
      "tesla.jpeg [[('n02814533', 'beach_wagon', 0.4093279)]]\n"
     ]
    }
   ],
   "source": [
    "for image_path in img_list:\n",
    "    img2=img_preprocess(image_path)\n",
    "    pred=model.predict(img2)\n",
    "    print (image_path,decode_predictions(pred,top=1))"
   ]
  },
  {
   "cell_type": "code",
   "execution_count": null,
   "id": "af9ee4d1",
   "metadata": {},
   "outputs": [],
   "source": []
  }
 ],
 "metadata": {
  "kernelspec": {
   "display_name": "Python 3 (ipykernel)",
   "language": "python",
   "name": "python3"
  },
  "language_info": {
   "codemirror_mode": {
    "name": "ipython",
    "version": 3
   },
   "file_extension": ".py",
   "mimetype": "text/x-python",
   "name": "python",
   "nbconvert_exporter": "python",
   "pygments_lexer": "ipython3",
   "version": "3.11.5"
  }
 },
 "nbformat": 4,
 "nbformat_minor": 5
}
